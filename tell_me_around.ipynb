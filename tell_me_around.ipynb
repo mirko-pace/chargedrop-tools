{
 "cells": [
  {
   "cell_type": "code",
   "execution_count": 15,
   "id": "2b468c98-5df4-4735-bd49-5df43cfe8bdd",
   "metadata": {},
   "outputs": [],
   "source": [
    "import sys\n",
    "import os\n",
    "import json\n",
    "import overpass\n",
    "import geojson\n",
    "import pandas as pd\n",
    "\n",
    "from pprint import pprint\n",
    "from langchain.llms import Ollama\n",
    "from langchain.vectorstores import Chroma\n",
    "from langchain.embeddings import GPT4AllEmbeddings\n",
    "from langchain.text_splitter import RecursiveCharacterTextSplitter\n",
    "from langchain.chains import ConversationalRetrievalChain\n",
    "from langchain_community.document_loaders import TextLoader\n",
    "from langchain.chains import RetrievalQA\n",
    "from geopy.geocoders import Nominatim\n",
    "\n",
    "\n",
    "overp = overpass.API()\n",
    "llm = Ollama(model=\"llama2\") ## try mistral or openchat and see the differences :) "
   ]
  },
  {
   "cell_type": "code",
   "execution_count": 16,
   "id": "9201702a-d12c-44fb-b186-86aac5721026",
   "metadata": {},
   "outputs": [],
   "source": [
    "def call_overpass(api,lat,long,radius=500):\n",
    "    result = api.get(f\"node(around:{radius},{lat},{long})\")\n",
    "    res = pd.json_normalize(result,['features'])\n",
    "    result_string = ''\n",
    "    if 'properties.name' in res.columns:\n",
    "        pd_around = res[res['properties.name'].notnull()].fillna(\"\")\n",
    "        for index, item in pd_around.iterrows():\n",
    "            result_string += f\"Name: {item['properties.name']} Shop: {item['properties.shop']} Amenity: {item['properties.cuisine']} {item['properties.amenity']}\"+\"\\n\"\n",
    "    return result_string"
   ]
  },
  {
   "cell_type": "code",
   "execution_count": 19,
   "id": "1e1cd71d-d2d6-4d5f-84c3-90ada3887b14",
   "metadata": {},
   "outputs": [],
   "source": [
    "def create_chain(llm,document):\n",
    "    # I save the document to a file because I cannot figure out a good way to load it into LangChain\n",
    "    # as a string/text :( \n",
    "    file_path = 'output.txt'\n",
    "    with open(file_path, 'w') as file:\n",
    "        file.write(document)\n",
    "    loader = TextLoader(\"./output.txt\")\n",
    "    data = loader.load()\n",
    "    text_splitter = RecursiveCharacterTextSplitter(chunk_size=500, chunk_overlap=0)\n",
    "    all_splits = text_splitter.split_documents(data)\n",
    "    vectorstore = Chroma.from_documents(documents=all_splits, embedding=GPT4AllEmbeddings())\n",
    "    qa_chain = RetrievalQA.from_chain_type(\n",
    "        llm=llm,\n",
    "        retriever=vectorstore.as_retriever(), chain_type=\"stuff\",\n",
    "        return_source_documents=True)\n",
    "    return qa_chain"
   ]
  },
  {
   "cell_type": "code",
   "execution_count": 18,
   "id": "4c5f1783-aba5-4d43-957c-b0d4be1c5b39",
   "metadata": {},
   "outputs": [
    {
     "name": "stdin",
     "output_type": "stream",
     "text": [
      "Enter Latitude:  37.7879\n",
      "Enter Longitude:  -122.4076\n"
     ]
    },
    {
     "name": "stdout",
     "output_type": "stream",
     "text": [
      "bert_load_from_file: gguf version     = 2\n",
      "bert_load_from_file: gguf alignment   = 32\n",
      "bert_load_from_file: gguf data offset = 695552\n",
      "bert_load_from_file: model name           = BERT\n",
      "bert_load_from_file: model architecture   = bert\n",
      "bert_load_from_file: model file type      = 1\n",
      "bert_load_from_file: bert tokenizer vocab = 30522\n"
     ]
    },
    {
     "name": "stderr",
     "output_type": "stream",
     "text": [
      "/Users/mirko/Library/Python/3.9/lib/python/site-packages/langchain_core/_api/deprecation.py:117: LangChainDeprecationWarning: The function `__call__` was deprecated in LangChain 0.1.0 and will be removed in 0.2.0. Use invoke instead.\n",
      "  warn_deprecated(\n"
     ]
    },
    {
     "name": "stdout",
     "output_type": "stream",
     "text": [
      "Sure, I'd be happy to help! Based on the context provided, here are some of the businesses and shops located around Union Square Garage, Post Street, Union Square, San Francisco, California, 94108, United States:\n",
      "\n",
      "* Amenity: Shop\n",
      "\t+ Location: Stockton Street & Geary Street / Union Square\n",
      "\t+ Description: A shop offering various amenities for customers.\n",
      "* Amenity: Shop\n",
      "\t+ Location: 4th Street & Market Street / Moscone Center\n",
      "\t+ Description: A shop located in the heart of Union Square, offering a variety of goods and services.\n",
      "* Amenity: Shop\n",
      "\t+ Location: Kearny Street & Geary Street\n",
      "\t+ Description: A shop providing various amenities for customers.\n",
      "* Amenity: Shop\n",
      "\t+ Location: 3rd Street & Mission Street\n",
      "\t+ Description: A shop offering a range of goods and services.\n",
      "* Amenity: Shop\n",
      "\t+ Location: Kearny Street & Bush Street\n",
      "\t+ Description: A shop providing various amenities for customers.\n",
      "* Amenity: Shop\n",
      "\t+ Location: Kearny Street & Sutter Street\n",
      "\t+ Description: A shop offering a range of goods and services.\n",
      "* Amenity: Shop\n",
      "\t+ Location: Sutter Street & Kearny Street\n",
      "\t+ Description: A shop providing various amenities for customers.\n",
      "* Amenity: Shop\n",
      "\t+ Location: California Street & Powell Street\n",
      "\t+ Description: A shop offering a variety of goods and services.\n",
      "* Amenity: Shop\n",
      "\t+ Location: Golden State Warriors Store\n",
      "\t+ Description: A shop selling sports-related items and merchandise.\n",
      "* Amenity: Shop\n",
      "\t+ Location: Walgreens\n",
      "\t+ Description: A drugstore offering various goods and services.\n",
      "* Amenity: Fast Food\n",
      "\t+ Location: Subway\n",
      "\t+ Description: A fast food restaurant serving sandwiches and other items.\n",
      "* Amenity: Restaurant\n",
      "\t+ Location: International Food Court\n",
      "\t+ Description: A food court offering a variety of international cuisines.\n",
      "* Amenity: Fast Food\n",
      "\t+ Location: L&L Hawaiian Barbecue\n",
      "\t+ Description: A fast food restaurant serving Hawaiian-style barbecue.\n",
      "* Amenity: Restaurant\n",
      "\t+ Location: Mak and Co.\n",
      "\t+ Description: A restaurant offering a variety of dishes inspired by Southeast Asian cuisine.\n",
      "* Amenity: Restaurant\n",
      "\t+ Location: Pachino Pizzeria\n",
      "\t+ Description: A pizzeria serving Italian-style pizza and other dishes.\n",
      "* Amenity: Mediterranean, Israeli, Falafel Restaurant\n",
      "\t+ Location: Sababa\n",
      "\t+ Description: A restaurant offering a variety of Middle Eastern-inspired dishes, including falafel and shawarma.\n",
      "\n",
      "I hope this helps! Let me know if you have any other questions.\n"
     ]
    }
   ],
   "source": [
    "def main():\n",
    "    latitude = float(input(\"Enter Latitude: \"))\n",
    "    longitude = float(input(\"Enter Longitude: \"))\n",
    "    my_doc = call_overpass(overp,latitude,longitude)\n",
    "    qa_chain = create_chain(llm,my_doc)\n",
    "    geolocator = Nominatim(user_agent=\"http\")\n",
    "    location = geolocator.reverse([latitude,longitude])\n",
    "    response = qa_chain(f\"\"\"All names contained in the document are businesses around {location}, can you\n",
    "        please describe all available businesses and shops in the surroundings in plain English? Use a descriptional tone.\"\"\")\n",
    "    print(response['result'])\n",
    "\n",
    "main()"
   ]
  },
  {
   "cell_type": "code",
   "execution_count": null,
   "id": "a9a8d32a-e3ec-4f2e-b917-c0733e9c686e",
   "metadata": {},
   "outputs": [],
   "source": [
    "## Union Square, SF: 37.787937, -122.407677"
   ]
  }
 ],
 "metadata": {
  "kernelspec": {
   "display_name": "Python 3 (ipykernel)",
   "language": "python",
   "name": "python3"
  },
  "language_info": {
   "codemirror_mode": {
    "name": "ipython",
    "version": 3
   },
   "file_extension": ".py",
   "mimetype": "text/x-python",
   "name": "python",
   "nbconvert_exporter": "python",
   "pygments_lexer": "ipython3",
   "version": "3.9.6"
  }
 },
 "nbformat": 4,
 "nbformat_minor": 5
}
